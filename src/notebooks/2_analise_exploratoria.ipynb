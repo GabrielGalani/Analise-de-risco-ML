{
 "cells": [
  {
   "cell_type": "markdown",
   "metadata": {},
   "source": [
    "# Importando bibliotecas"
   ]
  },
  {
   "cell_type": "code",
   "execution_count": 220,
   "metadata": {},
   "outputs": [],
   "source": [
    "import pandas as pd\n",
    "import numpy as np\n",
    "import os, re\n",
    "from pathlib import Path"
   ]
  },
  {
   "cell_type": "code",
   "execution_count": 221,
   "metadata": {},
   "outputs": [],
   "source": [
    "pd.set_option('display.max_columns', 90)\n",
    "pd.set_option('display.max_rows', 100)"
   ]
  },
  {
   "cell_type": "markdown",
   "metadata": {},
   "source": [
    "# Variáveis"
   ]
  },
  {
   "cell_type": "code",
   "execution_count": 222,
   "metadata": {},
   "outputs": [],
   "source": [
    "dataset_folder = r'C:\\Users\\GabGalani\\Documents\\Data Projects\\Analise_credito\\dataset\\bronze'\n",
    "file_test = 'test.csv'"
   ]
  },
  {
   "cell_type": "markdown",
   "metadata": {},
   "source": [
    "# Datasets"
   ]
  },
  {
   "cell_type": "markdown",
   "metadata": {},
   "source": [
    "## Dataset test.csv"
   ]
  },
  {
   "cell_type": "code",
   "execution_count": 223,
   "metadata": {},
   "outputs": [
    {
     "data": {
      "text/html": [
       "<div>\n",
       "<style scoped>\n",
       "    .dataframe tbody tr th:only-of-type {\n",
       "        vertical-align: middle;\n",
       "    }\n",
       "\n",
       "    .dataframe tbody tr th {\n",
       "        vertical-align: top;\n",
       "    }\n",
       "\n",
       "    .dataframe thead th {\n",
       "        text-align: right;\n",
       "    }\n",
       "</style>\n",
       "<table border=\"1\" class=\"dataframe\">\n",
       "  <thead>\n",
       "    <tr style=\"text-align: right;\">\n",
       "      <th></th>\n",
       "      <th>ID</th>\n",
       "      <th>Customer_ID</th>\n",
       "      <th>Month</th>\n",
       "      <th>Name</th>\n",
       "      <th>Age</th>\n",
       "      <th>SSN</th>\n",
       "      <th>Occupation</th>\n",
       "      <th>Annual_Income</th>\n",
       "      <th>Monthly_Inhand_Salary</th>\n",
       "      <th>Num_Bank_Accounts</th>\n",
       "      <th>Num_Credit_Card</th>\n",
       "      <th>Interest_Rate</th>\n",
       "      <th>Num_of_Loan</th>\n",
       "      <th>Type_of_Loan</th>\n",
       "      <th>Delay_from_due_date</th>\n",
       "      <th>Num_of_Delayed_Payment</th>\n",
       "      <th>Changed_Credit_Limit</th>\n",
       "      <th>Num_Credit_Inquiries</th>\n",
       "      <th>Credit_Mix</th>\n",
       "      <th>Outstanding_Debt</th>\n",
       "      <th>Credit_Utilization_Ratio</th>\n",
       "      <th>Credit_History_Age</th>\n",
       "      <th>Payment_of_Min_Amount</th>\n",
       "      <th>Total_EMI_per_month</th>\n",
       "      <th>Amount_invested_monthly</th>\n",
       "      <th>Payment_Behaviour</th>\n",
       "      <th>Monthly_Balance</th>\n",
       "    </tr>\n",
       "  </thead>\n",
       "  <tbody>\n",
       "    <tr>\n",
       "      <th>0</th>\n",
       "      <td>0x160a</td>\n",
       "      <td>CUS_0xd40</td>\n",
       "      <td>September</td>\n",
       "      <td>Aaron Maashoh</td>\n",
       "      <td>23</td>\n",
       "      <td>821-00-0265</td>\n",
       "      <td>Scientist</td>\n",
       "      <td>19114.12</td>\n",
       "      <td>1824.843333</td>\n",
       "      <td>3</td>\n",
       "      <td>4</td>\n",
       "      <td>3</td>\n",
       "      <td>4</td>\n",
       "      <td>Auto Loan, Credit-Builder Loan, Personal Loan,...</td>\n",
       "      <td>3</td>\n",
       "      <td>7</td>\n",
       "      <td>11.27</td>\n",
       "      <td>2022.0</td>\n",
       "      <td>Good</td>\n",
       "      <td>809.98</td>\n",
       "      <td>35.030402</td>\n",
       "      <td>22 Years and 9 Months</td>\n",
       "      <td>No</td>\n",
       "      <td>49.574949</td>\n",
       "      <td>236.64268203272135</td>\n",
       "      <td>Low_spent_Small_value_payments</td>\n",
       "      <td>186.26670208571772</td>\n",
       "    </tr>\n",
       "    <tr>\n",
       "      <th>1</th>\n",
       "      <td>0x160b</td>\n",
       "      <td>CUS_0xd40</td>\n",
       "      <td>October</td>\n",
       "      <td>Aaron Maashoh</td>\n",
       "      <td>24</td>\n",
       "      <td>821-00-0265</td>\n",
       "      <td>Scientist</td>\n",
       "      <td>19114.12</td>\n",
       "      <td>1824.843333</td>\n",
       "      <td>3</td>\n",
       "      <td>4</td>\n",
       "      <td>3</td>\n",
       "      <td>4</td>\n",
       "      <td>Auto Loan, Credit-Builder Loan, Personal Loan,...</td>\n",
       "      <td>3</td>\n",
       "      <td>9</td>\n",
       "      <td>13.27</td>\n",
       "      <td>4.0</td>\n",
       "      <td>Good</td>\n",
       "      <td>809.98</td>\n",
       "      <td>33.053114</td>\n",
       "      <td>22 Years and 10 Months</td>\n",
       "      <td>No</td>\n",
       "      <td>49.574949</td>\n",
       "      <td>21.465380264657146</td>\n",
       "      <td>High_spent_Medium_value_payments</td>\n",
       "      <td>361.44400385378196</td>\n",
       "    </tr>\n",
       "    <tr>\n",
       "      <th>2</th>\n",
       "      <td>0x160c</td>\n",
       "      <td>CUS_0xd40</td>\n",
       "      <td>November</td>\n",
       "      <td>Aaron Maashoh</td>\n",
       "      <td>24</td>\n",
       "      <td>821-00-0265</td>\n",
       "      <td>Scientist</td>\n",
       "      <td>19114.12</td>\n",
       "      <td>1824.843333</td>\n",
       "      <td>3</td>\n",
       "      <td>4</td>\n",
       "      <td>3</td>\n",
       "      <td>4</td>\n",
       "      <td>Auto Loan, Credit-Builder Loan, Personal Loan,...</td>\n",
       "      <td>-1</td>\n",
       "      <td>4</td>\n",
       "      <td>12.27</td>\n",
       "      <td>4.0</td>\n",
       "      <td>Good</td>\n",
       "      <td>809.98</td>\n",
       "      <td>33.811894</td>\n",
       "      <td>NaN</td>\n",
       "      <td>No</td>\n",
       "      <td>49.574949</td>\n",
       "      <td>148.23393788500925</td>\n",
       "      <td>Low_spent_Medium_value_payments</td>\n",
       "      <td>264.67544623342997</td>\n",
       "    </tr>\n",
       "    <tr>\n",
       "      <th>3</th>\n",
       "      <td>0x160d</td>\n",
       "      <td>CUS_0xd40</td>\n",
       "      <td>December</td>\n",
       "      <td>Aaron Maashoh</td>\n",
       "      <td>24_</td>\n",
       "      <td>821-00-0265</td>\n",
       "      <td>Scientist</td>\n",
       "      <td>19114.12</td>\n",
       "      <td>NaN</td>\n",
       "      <td>3</td>\n",
       "      <td>4</td>\n",
       "      <td>3</td>\n",
       "      <td>4</td>\n",
       "      <td>Auto Loan, Credit-Builder Loan, Personal Loan,...</td>\n",
       "      <td>4</td>\n",
       "      <td>5</td>\n",
       "      <td>11.27</td>\n",
       "      <td>4.0</td>\n",
       "      <td>Good</td>\n",
       "      <td>809.98</td>\n",
       "      <td>32.430559</td>\n",
       "      <td>23 Years and 0 Months</td>\n",
       "      <td>No</td>\n",
       "      <td>49.574949</td>\n",
       "      <td>39.08251089460281</td>\n",
       "      <td>High_spent_Medium_value_payments</td>\n",
       "      <td>343.82687322383634</td>\n",
       "    </tr>\n",
       "    <tr>\n",
       "      <th>4</th>\n",
       "      <td>0x1616</td>\n",
       "      <td>CUS_0x21b1</td>\n",
       "      <td>September</td>\n",
       "      <td>Rick Rothackerj</td>\n",
       "      <td>28</td>\n",
       "      <td>004-07-5839</td>\n",
       "      <td>_______</td>\n",
       "      <td>34847.84</td>\n",
       "      <td>3037.986667</td>\n",
       "      <td>2</td>\n",
       "      <td>4</td>\n",
       "      <td>6</td>\n",
       "      <td>1</td>\n",
       "      <td>Credit-Builder Loan</td>\n",
       "      <td>3</td>\n",
       "      <td>1</td>\n",
       "      <td>5.42</td>\n",
       "      <td>5.0</td>\n",
       "      <td>Good</td>\n",
       "      <td>605.03</td>\n",
       "      <td>25.926822</td>\n",
       "      <td>27 Years and 3 Months</td>\n",
       "      <td>No</td>\n",
       "      <td>18.816215</td>\n",
       "      <td>39.684018417945296</td>\n",
       "      <td>High_spent_Large_value_payments</td>\n",
       "      <td>485.2984336755923</td>\n",
       "    </tr>\n",
       "  </tbody>\n",
       "</table>\n",
       "</div>"
      ],
      "text/plain": [
       "       ID Customer_ID      Month             Name  Age          SSN  \\\n",
       "0  0x160a   CUS_0xd40  September    Aaron Maashoh   23  821-00-0265   \n",
       "1  0x160b   CUS_0xd40    October    Aaron Maashoh   24  821-00-0265   \n",
       "2  0x160c   CUS_0xd40   November    Aaron Maashoh   24  821-00-0265   \n",
       "3  0x160d   CUS_0xd40   December    Aaron Maashoh  24_  821-00-0265   \n",
       "4  0x1616  CUS_0x21b1  September  Rick Rothackerj   28  004-07-5839   \n",
       "\n",
       "  Occupation Annual_Income  Monthly_Inhand_Salary  Num_Bank_Accounts  \\\n",
       "0  Scientist      19114.12            1824.843333                  3   \n",
       "1  Scientist      19114.12            1824.843333                  3   \n",
       "2  Scientist      19114.12            1824.843333                  3   \n",
       "3  Scientist      19114.12                    NaN                  3   \n",
       "4    _______      34847.84            3037.986667                  2   \n",
       "\n",
       "   Num_Credit_Card  Interest_Rate Num_of_Loan  \\\n",
       "0                4              3           4   \n",
       "1                4              3           4   \n",
       "2                4              3           4   \n",
       "3                4              3           4   \n",
       "4                4              6           1   \n",
       "\n",
       "                                        Type_of_Loan  Delay_from_due_date  \\\n",
       "0  Auto Loan, Credit-Builder Loan, Personal Loan,...                    3   \n",
       "1  Auto Loan, Credit-Builder Loan, Personal Loan,...                    3   \n",
       "2  Auto Loan, Credit-Builder Loan, Personal Loan,...                   -1   \n",
       "3  Auto Loan, Credit-Builder Loan, Personal Loan,...                    4   \n",
       "4                                Credit-Builder Loan                    3   \n",
       "\n",
       "  Num_of_Delayed_Payment Changed_Credit_Limit  Num_Credit_Inquiries  \\\n",
       "0                      7                11.27                2022.0   \n",
       "1                      9                13.27                   4.0   \n",
       "2                      4                12.27                   4.0   \n",
       "3                      5                11.27                   4.0   \n",
       "4                      1                 5.42                   5.0   \n",
       "\n",
       "  Credit_Mix Outstanding_Debt  Credit_Utilization_Ratio  \\\n",
       "0       Good           809.98                 35.030402   \n",
       "1       Good           809.98                 33.053114   \n",
       "2       Good           809.98                 33.811894   \n",
       "3       Good           809.98                 32.430559   \n",
       "4       Good           605.03                 25.926822   \n",
       "\n",
       "       Credit_History_Age Payment_of_Min_Amount  Total_EMI_per_month  \\\n",
       "0   22 Years and 9 Months                    No            49.574949   \n",
       "1  22 Years and 10 Months                    No            49.574949   \n",
       "2                     NaN                    No            49.574949   \n",
       "3   23 Years and 0 Months                    No            49.574949   \n",
       "4   27 Years and 3 Months                    No            18.816215   \n",
       "\n",
       "  Amount_invested_monthly                 Payment_Behaviour  \\\n",
       "0      236.64268203272135    Low_spent_Small_value_payments   \n",
       "1      21.465380264657146  High_spent_Medium_value_payments   \n",
       "2      148.23393788500925   Low_spent_Medium_value_payments   \n",
       "3       39.08251089460281  High_spent_Medium_value_payments   \n",
       "4      39.684018417945296   High_spent_Large_value_payments   \n",
       "\n",
       "      Monthly_Balance  \n",
       "0  186.26670208571772  \n",
       "1  361.44400385378196  \n",
       "2  264.67544623342997  \n",
       "3  343.82687322383634  \n",
       "4   485.2984336755923  "
      ]
     },
     "execution_count": 223,
     "metadata": {},
     "output_type": "execute_result"
    }
   ],
   "source": [
    "dataset = pd.read_csv(os.path.join(dataset_folder, file_test), sep=',')\n",
    "dataset.head()"
   ]
  },
  {
   "cell_type": "code",
   "execution_count": 224,
   "metadata": {},
   "outputs": [
    {
     "name": "stdout",
     "output_type": "stream",
     "text": [
      "<class 'pandas.core.frame.DataFrame'>\n",
      "RangeIndex: 50000 entries, 0 to 49999\n",
      "Data columns (total 27 columns):\n",
      " #   Column                    Non-Null Count  Dtype  \n",
      "---  ------                    --------------  -----  \n",
      " 0   ID                        50000 non-null  object \n",
      " 1   Customer_ID               50000 non-null  object \n",
      " 2   Month                     50000 non-null  object \n",
      " 3   Name                      44985 non-null  object \n",
      " 4   Age                       50000 non-null  object \n",
      " 5   SSN                       50000 non-null  object \n",
      " 6   Occupation                50000 non-null  object \n",
      " 7   Annual_Income             50000 non-null  object \n",
      " 8   Monthly_Inhand_Salary     42502 non-null  float64\n",
      " 9   Num_Bank_Accounts         50000 non-null  int64  \n",
      " 10  Num_Credit_Card           50000 non-null  int64  \n",
      " 11  Interest_Rate             50000 non-null  int64  \n",
      " 12  Num_of_Loan               50000 non-null  object \n",
      " 13  Type_of_Loan              44296 non-null  object \n",
      " 14  Delay_from_due_date       50000 non-null  int64  \n",
      " 15  Num_of_Delayed_Payment    46502 non-null  object \n",
      " 16  Changed_Credit_Limit      50000 non-null  object \n",
      " 17  Num_Credit_Inquiries      48965 non-null  float64\n",
      " 18  Credit_Mix                50000 non-null  object \n",
      " 19  Outstanding_Debt          50000 non-null  object \n",
      " 20  Credit_Utilization_Ratio  50000 non-null  float64\n",
      " 21  Credit_History_Age        45530 non-null  object \n",
      " 22  Payment_of_Min_Amount     50000 non-null  object \n",
      " 23  Total_EMI_per_month       50000 non-null  float64\n",
      " 24  Amount_invested_monthly   47729 non-null  object \n",
      " 25  Payment_Behaviour         50000 non-null  object \n",
      " 26  Monthly_Balance           49438 non-null  object \n",
      "dtypes: float64(4), int64(4), object(19)\n",
      "memory usage: 10.3+ MB\n"
     ]
    }
   ],
   "source": [
    "dataset.info()"
   ]
  },
  {
   "cell_type": "markdown",
   "metadata": {},
   "source": [
    "## Verificando e tratando nulos"
   ]
  },
  {
   "cell_type": "code",
   "execution_count": 225,
   "metadata": {},
   "outputs": [
    {
     "data": {
      "text/plain": [
       "ID                             0\n",
       "Customer_ID                    0\n",
       "Month                          0\n",
       "Name                        5015\n",
       "Age                            0\n",
       "SSN                            0\n",
       "Occupation                     0\n",
       "Annual_Income                  0\n",
       "Monthly_Inhand_Salary       7498\n",
       "Num_Bank_Accounts              0\n",
       "Num_Credit_Card                0\n",
       "Interest_Rate                  0\n",
       "Num_of_Loan                    0\n",
       "Type_of_Loan                5704\n",
       "Delay_from_due_date            0\n",
       "Num_of_Delayed_Payment      3498\n",
       "Changed_Credit_Limit           0\n",
       "Num_Credit_Inquiries        1035\n",
       "Credit_Mix                     0\n",
       "Outstanding_Debt               0\n",
       "Credit_Utilization_Ratio       0\n",
       "Credit_History_Age          4470\n",
       "Payment_of_Min_Amount          0\n",
       "Total_EMI_per_month            0\n",
       "Amount_invested_monthly     2271\n",
       "Payment_Behaviour              0\n",
       "Monthly_Balance              562\n",
       "dtype: int64"
      ]
     },
     "execution_count": 225,
     "metadata": {},
     "output_type": "execute_result"
    }
   ],
   "source": [
    "dataset.isnull().sum()"
   ]
  },
  {
   "cell_type": "markdown",
   "metadata": {},
   "source": [
    "- Coluna Name nula, deverá ser preenchida, pois há casos como o acima, onde o ID já possui o nome; (Essa é irrelevante)\n",
    "- Monthly_Inhand_Salary é importante para avaliar a capacidade de pagamento, então trataei os nulos com a mediana da coluna       Annual_Income;\n",
    "- Num_of_Delayed_Payment é importante pois avalia o comportamento do pagamento, então assumiremos como 0;\n",
    "- Num_Credit_Inquiries é importante pois mostra quantas consultas de crédito foram feitas recentemente, vamos considerar como 0;\n",
    "- Credit_History_Age é importante pois indica o histórico de crédito, vamos considerar fazer um dataset para verificar se já possui essa informação em outra linha e agregar calculando o tempo\n",
    "- Amount_invested_monthly Indica quanto o cliente investe mensalmente, vamos conseidarar 0 para os nulos devido à cada linha ser um mês o nulo indica que não houve depósito"
   ]
  },
  {
   "cell_type": "markdown",
   "metadata": {},
   "source": [
    "## Tratando a coluna Age"
   ]
  },
  {
   "cell_type": "code",
   "execution_count": 226,
   "metadata": {},
   "outputs": [
    {
     "data": {
      "text/html": [
       "<div>\n",
       "<style scoped>\n",
       "    .dataframe tbody tr th:only-of-type {\n",
       "        vertical-align: middle;\n",
       "    }\n",
       "\n",
       "    .dataframe tbody tr th {\n",
       "        vertical-align: top;\n",
       "    }\n",
       "\n",
       "    .dataframe thead th {\n",
       "        text-align: right;\n",
       "    }\n",
       "</style>\n",
       "<table border=\"1\" class=\"dataframe\">\n",
       "  <thead>\n",
       "    <tr style=\"text-align: right;\">\n",
       "      <th></th>\n",
       "      <th>ID</th>\n",
       "      <th>Customer_ID</th>\n",
       "      <th>Month</th>\n",
       "      <th>Name</th>\n",
       "      <th>Age</th>\n",
       "      <th>SSN</th>\n",
       "      <th>Occupation</th>\n",
       "      <th>Annual_Income</th>\n",
       "      <th>Monthly_Inhand_Salary</th>\n",
       "      <th>Num_Bank_Accounts</th>\n",
       "      <th>Num_Credit_Card</th>\n",
       "      <th>Interest_Rate</th>\n",
       "      <th>Num_of_Loan</th>\n",
       "      <th>Type_of_Loan</th>\n",
       "      <th>Delay_from_due_date</th>\n",
       "      <th>Num_of_Delayed_Payment</th>\n",
       "      <th>Changed_Credit_Limit</th>\n",
       "      <th>Num_Credit_Inquiries</th>\n",
       "      <th>Credit_Mix</th>\n",
       "      <th>Outstanding_Debt</th>\n",
       "      <th>Credit_Utilization_Ratio</th>\n",
       "      <th>Credit_History_Age</th>\n",
       "      <th>Payment_of_Min_Amount</th>\n",
       "      <th>Total_EMI_per_month</th>\n",
       "      <th>Amount_invested_monthly</th>\n",
       "      <th>Payment_Behaviour</th>\n",
       "      <th>Monthly_Balance</th>\n",
       "    </tr>\n",
       "  </thead>\n",
       "  <tbody>\n",
       "    <tr>\n",
       "      <th>0</th>\n",
       "      <td>0x160a</td>\n",
       "      <td>CUS_0xd40</td>\n",
       "      <td>September</td>\n",
       "      <td>Aaron Maashoh</td>\n",
       "      <td>23</td>\n",
       "      <td>821-00-0265</td>\n",
       "      <td>Scientist</td>\n",
       "      <td>19114.12</td>\n",
       "      <td>1824.843333</td>\n",
       "      <td>3</td>\n",
       "      <td>4</td>\n",
       "      <td>3</td>\n",
       "      <td>4</td>\n",
       "      <td>Auto Loan, Credit-Builder Loan, Personal Loan,...</td>\n",
       "      <td>3</td>\n",
       "      <td>7</td>\n",
       "      <td>11.27</td>\n",
       "      <td>2022.0</td>\n",
       "      <td>Good</td>\n",
       "      <td>809.98</td>\n",
       "      <td>35.030402</td>\n",
       "      <td>22 Years and 9 Months</td>\n",
       "      <td>No</td>\n",
       "      <td>49.574949</td>\n",
       "      <td>236.64268203272135</td>\n",
       "      <td>Low_spent_Small_value_payments</td>\n",
       "      <td>186.26670208571772</td>\n",
       "    </tr>\n",
       "    <tr>\n",
       "      <th>1</th>\n",
       "      <td>0x160b</td>\n",
       "      <td>CUS_0xd40</td>\n",
       "      <td>October</td>\n",
       "      <td>Aaron Maashoh</td>\n",
       "      <td>24</td>\n",
       "      <td>821-00-0265</td>\n",
       "      <td>Scientist</td>\n",
       "      <td>19114.12</td>\n",
       "      <td>1824.843333</td>\n",
       "      <td>3</td>\n",
       "      <td>4</td>\n",
       "      <td>3</td>\n",
       "      <td>4</td>\n",
       "      <td>Auto Loan, Credit-Builder Loan, Personal Loan,...</td>\n",
       "      <td>3</td>\n",
       "      <td>9</td>\n",
       "      <td>13.27</td>\n",
       "      <td>4.0</td>\n",
       "      <td>Good</td>\n",
       "      <td>809.98</td>\n",
       "      <td>33.053114</td>\n",
       "      <td>22 Years and 10 Months</td>\n",
       "      <td>No</td>\n",
       "      <td>49.574949</td>\n",
       "      <td>21.465380264657146</td>\n",
       "      <td>High_spent_Medium_value_payments</td>\n",
       "      <td>361.44400385378196</td>\n",
       "    </tr>\n",
       "  </tbody>\n",
       "</table>\n",
       "</div>"
      ],
      "text/plain": [
       "       ID Customer_ID      Month           Name Age          SSN Occupation  \\\n",
       "0  0x160a   CUS_0xd40  September  Aaron Maashoh  23  821-00-0265  Scientist   \n",
       "1  0x160b   CUS_0xd40    October  Aaron Maashoh  24  821-00-0265  Scientist   \n",
       "\n",
       "  Annual_Income  Monthly_Inhand_Salary  Num_Bank_Accounts  Num_Credit_Card  \\\n",
       "0      19114.12            1824.843333                  3                4   \n",
       "1      19114.12            1824.843333                  3                4   \n",
       "\n",
       "   Interest_Rate Num_of_Loan  \\\n",
       "0              3           4   \n",
       "1              3           4   \n",
       "\n",
       "                                        Type_of_Loan  Delay_from_due_date  \\\n",
       "0  Auto Loan, Credit-Builder Loan, Personal Loan,...                    3   \n",
       "1  Auto Loan, Credit-Builder Loan, Personal Loan,...                    3   \n",
       "\n",
       "  Num_of_Delayed_Payment Changed_Credit_Limit  Num_Credit_Inquiries  \\\n",
       "0                      7                11.27                2022.0   \n",
       "1                      9                13.27                   4.0   \n",
       "\n",
       "  Credit_Mix Outstanding_Debt  Credit_Utilization_Ratio  \\\n",
       "0       Good           809.98                 35.030402   \n",
       "1       Good           809.98                 33.053114   \n",
       "\n",
       "       Credit_History_Age Payment_of_Min_Amount  Total_EMI_per_month  \\\n",
       "0   22 Years and 9 Months                    No            49.574949   \n",
       "1  22 Years and 10 Months                    No            49.574949   \n",
       "\n",
       "  Amount_invested_monthly                 Payment_Behaviour  \\\n",
       "0      236.64268203272135    Low_spent_Small_value_payments   \n",
       "1      21.465380264657146  High_spent_Medium_value_payments   \n",
       "\n",
       "      Monthly_Balance  \n",
       "0  186.26670208571772  \n",
       "1  361.44400385378196  "
      ]
     },
     "execution_count": 226,
     "metadata": {},
     "output_type": "execute_result"
    }
   ],
   "source": [
    "dataset.head(2)"
   ]
  },
  {
   "cell_type": "code",
   "execution_count": 227,
   "metadata": {},
   "outputs": [],
   "source": [
    "dataset['Age'] = dataset['Age'].str.replace('_', '', regex=False).astype(float)\n",
    "dataset['Age'] = dataset['Age'].astype(int)\n"
   ]
  },
  {
   "cell_type": "markdown",
   "metadata": {},
   "source": [
    "## Coluna Name"
   ]
  },
  {
   "cell_type": "code",
   "execution_count": 228,
   "metadata": {},
   "outputs": [],
   "source": [
    "dataset_name = dataset[['Customer_ID', 'Name']]\n",
    "dataset_name = dataset_name[(~dataset_name['Name'].isnull()) & (~dataset_name['Customer_ID'].isnull())]\n",
    "dataset_name = dataset_name.drop_duplicates()\n",
    "\n",
    "dataset = dataset.merge(dataset_name, on='Customer_ID', how='left', suffixes=('', '_new'))\n",
    "dataset['Name'] = dataset['Name'].fillna(dataset['Name_new'])\n",
    "dataset['Name'] = dataset['Name'].fillna(dataset['Name_new'])"
   ]
  },
  {
   "cell_type": "markdown",
   "metadata": {},
   "source": [
    "## Coluna Credit_History_Age"
   ]
  },
  {
   "cell_type": "code",
   "execution_count": 229,
   "metadata": {},
   "outputs": [],
   "source": [
    "def convert_to_months(age_str):\n",
    "    if pd.isnull(age_str):\n",
    "        return None\n",
    "    parts = age_str.split(' ')\n",
    "    years = int(parts[0])\n",
    "    months = int(parts[3])\n",
    "    return years * 12 + months\n",
    "\n",
    "def convert_to_years_months(months):\n",
    "    if pd.isnull(months):\n",
    "        return \"0 Years and 0 Months\"  # Retornar um valor padrão para NaN\n",
    "    years = months // 12\n",
    "    rem_months = months % 12\n",
    "    return f\"{int(years)} Years and {int(rem_months)} Months\""
   ]
  },
  {
   "cell_type": "code",
   "execution_count": 230,
   "metadata": {},
   "outputs": [
    {
     "name": "stderr",
     "output_type": "stream",
     "text": [
      "C:\\Users\\GabGalani\\AppData\\Local\\Temp\\ipykernel_11668\\3128593773.py:3: SettingWithCopyWarning: \n",
      "A value is trying to be set on a copy of a slice from a DataFrame.\n",
      "Try using .loc[row_indexer,col_indexer] = value instead\n",
      "\n",
      "See the caveats in the documentation: https://pandas.pydata.org/pandas-docs/stable/user_guide/indexing.html#returning-a-view-versus-a-copy\n",
      "  dataset_credit_history['Month_number'] = pd.to_datetime(dataset_credit_history['Month'], format='%B')\n"
     ]
    },
    {
     "data": {
      "text/html": [
       "<div>\n",
       "<style scoped>\n",
       "    .dataframe tbody tr th:only-of-type {\n",
       "        vertical-align: middle;\n",
       "    }\n",
       "\n",
       "    .dataframe tbody tr th {\n",
       "        vertical-align: top;\n",
       "    }\n",
       "\n",
       "    .dataframe thead th {\n",
       "        text-align: right;\n",
       "    }\n",
       "</style>\n",
       "<table border=\"1\" class=\"dataframe\">\n",
       "  <thead>\n",
       "    <tr style=\"text-align: right;\">\n",
       "      <th></th>\n",
       "      <th>Customer_ID</th>\n",
       "      <th>Month</th>\n",
       "      <th>Age</th>\n",
       "      <th>Credit_History_Age</th>\n",
       "      <th>Month_number</th>\n",
       "      <th>Credit_History_Months</th>\n",
       "    </tr>\n",
       "  </thead>\n",
       "  <tbody>\n",
       "    <tr>\n",
       "      <th>28379</th>\n",
       "      <td>CUS_0x1000</td>\n",
       "      <td>December</td>\n",
       "      <td>18</td>\n",
       "      <td>11 Years and 1 Months</td>\n",
       "      <td>1900-12-01</td>\n",
       "      <td>133.0</td>\n",
       "    </tr>\n",
       "    <tr>\n",
       "      <th>28378</th>\n",
       "      <td>CUS_0x1000</td>\n",
       "      <td>November</td>\n",
       "      <td>18</td>\n",
       "      <td>11 Years and 0 Months</td>\n",
       "      <td>1900-11-01</td>\n",
       "      <td>132.0</td>\n",
       "    </tr>\n",
       "  </tbody>\n",
       "</table>\n",
       "</div>"
      ],
      "text/plain": [
       "      Customer_ID     Month  Age     Credit_History_Age Month_number  \\\n",
       "28379  CUS_0x1000  December   18  11 Years and 1 Months   1900-12-01   \n",
       "28378  CUS_0x1000  November   18  11 Years and 0 Months   1900-11-01   \n",
       "\n",
       "       Credit_History_Months  \n",
       "28379                  133.0  \n",
       "28378                  132.0  "
      ]
     },
     "execution_count": 230,
     "metadata": {},
     "output_type": "execute_result"
    }
   ],
   "source": [
    "\n",
    "dataset_credit_history = dataset[['Customer_ID', 'Month', 'Age', 'Credit_History_Age']]\n",
    "\n",
    "dataset_credit_history['Month_number'] = pd.to_datetime(dataset_credit_history['Month'], format='%B')\n",
    "dataset_credit_history = dataset_credit_history.sort_values(by=['Customer_ID', 'Month'])\n",
    "\n",
    "# Converte o 'Credit_History_Age' para 'Credit_History_Months'\n",
    "dataset_credit_history['Credit_History_Months'] = dataset_credit_history['Credit_History_Age'].apply(convert_to_months)\n",
    "\n",
    "# Preencher valores nulos\n",
    "dataset_credit_history['Credit_History_Months'] = dataset_credit_history['Credit_History_Months'].fillna(dataset_credit_history['Credit_History_Months'].shift(1) - 1)\n",
    "\n",
    "# Preencher valores nulos restantes usando bfill\n",
    "dataset_credit_history['Credit_History_Months'] = dataset_credit_history.groupby('Customer_ID')['Credit_History_Months'].bfill()\n",
    "\n",
    "# Convertendo novamente para o formato 'Years and Months'\n",
    "dataset_credit_history['Credit_History_Age'] = dataset_credit_history['Credit_History_Months'].apply(convert_to_years_months)\n",
    "\n",
    "# Exibindo os resultados\n",
    "dataset_credit_history.head(2)\n"
   ]
  },
  {
   "cell_type": "markdown",
   "metadata": {},
   "source": [
    "Ajustando a coluna tratada"
   ]
  },
  {
   "cell_type": "code",
   "execution_count": 231,
   "metadata": {},
   "outputs": [],
   "source": [
    "dataset = dataset.merge(dataset_credit_history, on=['Customer_ID', 'Month', 'Age'], how='left', suffixes=('', '_new'))\n",
    "dataset['Credit_History_Age'] = dataset['Credit_History_Age'].fillna(dataset['Credit_History_Age_new'])\n",
    "dataset['Credit_History_Age'] = dataset['Credit_History_Age'].fillna(dataset['Credit_History_Age_new'])"
   ]
  },
  {
   "cell_type": "code",
   "execution_count": 232,
   "metadata": {},
   "outputs": [],
   "source": [
    "def extract_year(age_str):\n",
    "    # Verificar se age_str é uma string antes de aplicar split\n",
    "    if isinstance(age_str, str):\n",
    "        parts = age_str.split(' ')\n",
    "        years = int(parts[0])\n",
    "        return years+1\n",
    "    return 0  # Retornar None caso não seja uma string\n",
    "\n",
    "\n",
    "dataset['Age_new'] = dataset['Credit_History_Age'].apply(extract_year).astype(int)\n",
    "\n",
    "dataset['Age'] = np.where(\n",
    "    (dataset['Age'] >= 100) | (dataset['Age'] < 0),\n",
    "    dataset['Age_new'],\n",
    "    dataset['Age']\n",
    ")"
   ]
  },
  {
   "cell_type": "markdown",
   "metadata": {},
   "source": [
    "## Monthly_Inhand_Salary "
   ]
  },
  {
   "cell_type": "markdown",
   "metadata": {},
   "source": [
    "Importante para avaliar capacidade de pagamento. <br>\n",
    "Preencher com a mediana ou calcular com base na Annual_Income"
   ]
  },
  {
   "cell_type": "code",
   "execution_count": 233,
   "metadata": {},
   "outputs": [],
   "source": [
    "dataset['Annual_Income'] = dataset['Annual_Income'].str.replace('_', '', regex=False).astype(float)\n",
    "dataset['Annual_Income'] = dataset['Annual_Income'].astype(int)\n",
    "dataset['Annual_Income'].astype(float)\n",
    "dataset['Monthly_Inhand_Salary'] = dataset['Monthly_Inhand_Salary'].fillna(dataset['Annual_Income'] / 12)"
   ]
  },
  {
   "cell_type": "markdown",
   "metadata": {},
   "source": [
    "## Num_of_Delayed_Payment"
   ]
  },
  {
   "cell_type": "markdown",
   "metadata": {},
   "source": [
    "Avalia comportamento de pagamento. <br>\n",
    "Preencher com 0 (assumir que não houve atraso) ou com a mediana"
   ]
  },
  {
   "cell_type": "code",
   "execution_count": 234,
   "metadata": {},
   "outputs": [],
   "source": [
    "dataset['Num_of_Delayed_Payment'] = dataset['Num_of_Delayed_Payment'].fillna(0)"
   ]
  },
  {
   "cell_type": "markdown",
   "metadata": {},
   "source": [
    "## Num_Credit_Inquiries"
   ]
  },
  {
   "cell_type": "markdown",
   "metadata": {},
   "source": [
    "Mostra quantas consultas ao crédito foram feitas (uso frequente pode ser sinal de risco). <br>\n",
    "Preencher com a mediana ou 0:"
   ]
  },
  {
   "cell_type": "code",
   "execution_count": 235,
   "metadata": {},
   "outputs": [],
   "source": [
    "dataset['Num_Credit_Inquiries'] = dataset['Num_Credit_Inquiries'].fillna(0)\n"
   ]
  },
  {
   "cell_type": "markdown",
   "metadata": {},
   "source": [
    "## Amount_invested_monthly"
   ]
  },
  {
   "cell_type": "markdown",
   "metadata": {},
   "source": [
    "Indica quanto o cliente investe por mês, relevante para estabilidade financeira. <br>\n",
    "Preencher com 0 para o mês nulo\n"
   ]
  },
  {
   "cell_type": "code",
   "execution_count": 236,
   "metadata": {},
   "outputs": [],
   "source": [
    "dataset['Amount_invested_monthly'] = dataset['Amount_invested_monthly'].fillna(0)"
   ]
  },
  {
   "cell_type": "markdown",
   "metadata": {},
   "source": [
    "## Monthly_Balance"
   ]
  },
  {
   "cell_type": "markdown",
   "metadata": {},
   "source": [
    "Saldo mensal restante após despesas e pagamentos. <br>\n",
    "Preencher com mediana"
   ]
  },
  {
   "cell_type": "code",
   "execution_count": 237,
   "metadata": {},
   "outputs": [],
   "source": [
    "dataset['Monthly_Balance'] = pd.to_numeric(dataset['Monthly_Balance'], errors='coerce')\n",
    "dataset['Monthly_Balance'] = dataset['Monthly_Balance'].fillna(dataset['Monthly_Balance'].mean())"
   ]
  },
  {
   "cell_type": "markdown",
   "metadata": {},
   "source": [
    "## Type_of_Loan "
   ]
  },
  {
   "cell_type": "markdown",
   "metadata": {},
   "source": [
    "Pode indicar o tipo de empréstimo obtido (ex.: pessoal, carro, etc.). <br>\n",
    "|Preencher com \"Unknown\""
   ]
  },
  {
   "cell_type": "code",
   "execution_count": 238,
   "metadata": {},
   "outputs": [],
   "source": [
    "dataset['Type_of_Loan'] = dataset['Type_of_Loan'].fillna('')"
   ]
  },
  {
   "cell_type": "markdown",
   "metadata": {},
   "source": [
    "## Colunas numericas e float"
   ]
  },
  {
   "cell_type": "code",
   "execution_count": 239,
   "metadata": {},
   "outputs": [],
   "source": [
    "int_columns = ['Age', 'Num_Bank_Accounts', 'Num_Credit_Card', 'Num_of_Loan', 'Delay_from_due_date', 'Num_of_Delayed_Payment', 'Num_Credit_Inquiries']\n",
    "float_columns = ['Annual_Income', 'Monthly_Inhand_Salary', 'Interest_Rate', 'Changed_Credit_Limit', 'Outstanding_Debt', 'Credit_Utilization_Ratio', 'Total_EMI_per_month', 'Amount_invested_monthly', 'Monthly_Balance']"
   ]
  },
  {
   "cell_type": "markdown",
   "metadata": {},
   "source": [
    "Transformando todo dataset em string"
   ]
  },
  {
   "cell_type": "code",
   "execution_count": 240,
   "metadata": {},
   "outputs": [],
   "source": [
    "for i in dataset.columns: \n",
    "    dataset[i] = dataset[i].astype(str)"
   ]
  },
  {
   "cell_type": "markdown",
   "metadata": {},
   "source": [
    "Colunas int"
   ]
  },
  {
   "cell_type": "code",
   "execution_count": 241,
   "metadata": {},
   "outputs": [],
   "source": [
    "for i in int_columns:\n",
    "    dataset[i] = dataset[i].str.replace('_', '', regex=False).astype(float)\n",
    "    dataset[i] = dataset[i].astype(int)"
   ]
  },
  {
   "cell_type": "markdown",
   "metadata": {},
   "source": [
    "Colunas float"
   ]
  },
  {
   "cell_type": "code",
   "execution_count": 242,
   "metadata": {},
   "outputs": [],
   "source": [
    "dataset['Changed_Credit_Limit'] = dataset['Changed_Credit_Limit'].replace('_', '0')\n",
    "float_columns = ['Annual_Income', \n",
    "                 'Monthly_Inhand_Salary',\n",
    "                 'Interest_Rate', \n",
    "                 'Changed_Credit_Limit', \n",
    "                 'Outstanding_Debt', \n",
    "                 'Credit_Utilization_Ratio', \n",
    "                 'Total_EMI_per_month', \n",
    "                 'Amount_invested_monthly', \n",
    "                 'Monthly_Balance'\n",
    "            ]"
   ]
  },
  {
   "cell_type": "code",
   "execution_count": 243,
   "metadata": {},
   "outputs": [],
   "source": [
    "for i in float_columns:\n",
    "    dataset[i] = dataset[i].str.replace('_', '', regex=False).astype(float)\n",
    "    dataset[i] = dataset[i].astype(float)"
   ]
  },
  {
   "cell_type": "markdown",
   "metadata": {},
   "source": [
    "## Verificando as colunas tratadas"
   ]
  },
  {
   "cell_type": "code",
   "execution_count": 244,
   "metadata": {},
   "outputs": [
    {
     "data": {
      "text/plain": [
       "ID                          0\n",
       "Customer_ID                 0\n",
       "Month                       0\n",
       "Name                        0\n",
       "Age                         0\n",
       "SSN                         0\n",
       "Occupation                  0\n",
       "Annual_Income               0\n",
       "Monthly_Inhand_Salary       0\n",
       "Num_Bank_Accounts           0\n",
       "Num_Credit_Card             0\n",
       "Interest_Rate               0\n",
       "Num_of_Loan                 0\n",
       "Type_of_Loan                0\n",
       "Delay_from_due_date         0\n",
       "Num_of_Delayed_Payment      0\n",
       "Changed_Credit_Limit        0\n",
       "Num_Credit_Inquiries        0\n",
       "Credit_Mix                  0\n",
       "Outstanding_Debt            0\n",
       "Credit_Utilization_Ratio    0\n",
       "Credit_History_Age          0\n",
       "Payment_of_Min_Amount       0\n",
       "Total_EMI_per_month         0\n",
       "Amount_invested_monthly     0\n",
       "Payment_Behaviour           0\n",
       "Monthly_Balance             0\n",
       "Name_new                    0\n",
       "Credit_History_Age_new      0\n",
       "Month_number                0\n",
       "Credit_History_Months       0\n",
       "Age_new                     0\n",
       "dtype: int64"
      ]
     },
     "execution_count": 244,
     "metadata": {},
     "output_type": "execute_result"
    }
   ],
   "source": [
    "dataset.isnull().sum()"
   ]
  },
  {
   "cell_type": "markdown",
   "metadata": {},
   "source": [
    "## Verificando valor _______ na coluna Occupation"
   ]
  },
  {
   "cell_type": "code",
   "execution_count": 245,
   "metadata": {},
   "outputs": [
    {
     "data": {
      "text/plain": [
       "array(['Scientist', '_______', 'Teacher', 'Engineer', 'Entrepreneur',\n",
       "       'Developer', 'Lawyer', 'Media_Manager', 'Doctor', 'Journalist',\n",
       "       'Manager', 'Accountant', 'Musician', 'Mechanic', 'Writer',\n",
       "       'Architect'], dtype=object)"
      ]
     },
     "execution_count": 245,
     "metadata": {},
     "output_type": "execute_result"
    }
   ],
   "source": [
    "dataset['Occupation'].unique()"
   ]
  },
  {
   "cell_type": "code",
   "execution_count": 246,
   "metadata": {},
   "outputs": [
    {
     "data": {
      "text/html": [
       "<div>\n",
       "<style scoped>\n",
       "    .dataframe tbody tr th:only-of-type {\n",
       "        vertical-align: middle;\n",
       "    }\n",
       "\n",
       "    .dataframe tbody tr th {\n",
       "        vertical-align: top;\n",
       "    }\n",
       "\n",
       "    .dataframe thead th {\n",
       "        text-align: right;\n",
       "    }\n",
       "</style>\n",
       "<table border=\"1\" class=\"dataframe\">\n",
       "  <thead>\n",
       "    <tr style=\"text-align: right;\">\n",
       "      <th></th>\n",
       "      <th>ID</th>\n",
       "      <th>Customer_ID</th>\n",
       "      <th>Month</th>\n",
       "      <th>Name</th>\n",
       "      <th>Age</th>\n",
       "      <th>SSN</th>\n",
       "      <th>Occupation</th>\n",
       "      <th>Annual_Income</th>\n",
       "      <th>Monthly_Inhand_Salary</th>\n",
       "      <th>Num_Bank_Accounts</th>\n",
       "      <th>Num_Credit_Card</th>\n",
       "      <th>Interest_Rate</th>\n",
       "      <th>Num_of_Loan</th>\n",
       "      <th>Type_of_Loan</th>\n",
       "      <th>Delay_from_due_date</th>\n",
       "      <th>Num_of_Delayed_Payment</th>\n",
       "      <th>Changed_Credit_Limit</th>\n",
       "      <th>Num_Credit_Inquiries</th>\n",
       "      <th>Credit_Mix</th>\n",
       "      <th>Outstanding_Debt</th>\n",
       "      <th>Credit_Utilization_Ratio</th>\n",
       "      <th>Credit_History_Age</th>\n",
       "      <th>Payment_of_Min_Amount</th>\n",
       "      <th>Total_EMI_per_month</th>\n",
       "      <th>Amount_invested_monthly</th>\n",
       "      <th>Payment_Behaviour</th>\n",
       "      <th>Monthly_Balance</th>\n",
       "      <th>Name_new</th>\n",
       "      <th>Credit_History_Age_new</th>\n",
       "      <th>Month_number</th>\n",
       "      <th>Credit_History_Months</th>\n",
       "      <th>Age_new</th>\n",
       "    </tr>\n",
       "  </thead>\n",
       "  <tbody>\n",
       "    <tr>\n",
       "      <th>4</th>\n",
       "      <td>0x1616</td>\n",
       "      <td>CUS_0x21b1</td>\n",
       "      <td>September</td>\n",
       "      <td>Rick Rothackerj</td>\n",
       "      <td>28</td>\n",
       "      <td>004-07-5839</td>\n",
       "      <td>_______</td>\n",
       "      <td>34847.0</td>\n",
       "      <td>3037.986667</td>\n",
       "      <td>2</td>\n",
       "      <td>4</td>\n",
       "      <td>6.0</td>\n",
       "      <td>1</td>\n",
       "      <td>Credit-Builder Loan</td>\n",
       "      <td>3</td>\n",
       "      <td>1</td>\n",
       "      <td>5.42</td>\n",
       "      <td>5</td>\n",
       "      <td>Good</td>\n",
       "      <td>605.03</td>\n",
       "      <td>25.926822</td>\n",
       "      <td>27 Years and 3 Months</td>\n",
       "      <td>No</td>\n",
       "      <td>18.816215</td>\n",
       "      <td>39.684018</td>\n",
       "      <td>High_spent_Large_value_payments</td>\n",
       "      <td>485.298434</td>\n",
       "      <td>Rick Rothackerj</td>\n",
       "      <td>27 Years and 3 Months</td>\n",
       "      <td>1900-09-01</td>\n",
       "      <td>327.0</td>\n",
       "      <td>28</td>\n",
       "    </tr>\n",
       "    <tr>\n",
       "      <th>41</th>\n",
       "      <td>0x1683</td>\n",
       "      <td>CUS_0xa66b</td>\n",
       "      <td>October</td>\n",
       "      <td>Saphirj</td>\n",
       "      <td>41</td>\n",
       "      <td>221-30-8554</td>\n",
       "      <td>_______</td>\n",
       "      <td>33751.0</td>\n",
       "      <td>2812.583333</td>\n",
       "      <td>5</td>\n",
       "      <td>5</td>\n",
       "      <td>20.0</td>\n",
       "      <td>3</td>\n",
       "      <td>Credit-Builder Loan, Personal Loan, and Auto Loan</td>\n",
       "      <td>16</td>\n",
       "      <td>20</td>\n",
       "      <td>11.00</td>\n",
       "      <td>0</td>\n",
       "      <td>Standard</td>\n",
       "      <td>1328.93</td>\n",
       "      <td>36.778209</td>\n",
       "      <td>19 Years and 11 Months</td>\n",
       "      <td>Yes</td>\n",
       "      <td>65.008174</td>\n",
       "      <td>139.303039</td>\n",
       "      <td>Low_spent_Small_value_payments</td>\n",
       "      <td>380.549371</td>\n",
       "      <td>Saphirj</td>\n",
       "      <td>19 Years and 11 Months</td>\n",
       "      <td>1900-10-01</td>\n",
       "      <td>239.0</td>\n",
       "      <td>20</td>\n",
       "    </tr>\n",
       "  </tbody>\n",
       "</table>\n",
       "</div>"
      ],
      "text/plain": [
       "        ID Customer_ID      Month             Name  Age          SSN  \\\n",
       "4   0x1616  CUS_0x21b1  September  Rick Rothackerj   28  004-07-5839   \n",
       "41  0x1683  CUS_0xa66b    October          Saphirj   41  221-30-8554   \n",
       "\n",
       "   Occupation  Annual_Income  Monthly_Inhand_Salary  Num_Bank_Accounts  \\\n",
       "4     _______        34847.0            3037.986667                  2   \n",
       "41    _______        33751.0            2812.583333                  5   \n",
       "\n",
       "    Num_Credit_Card  Interest_Rate  Num_of_Loan  \\\n",
       "4                 4            6.0            1   \n",
       "41                5           20.0            3   \n",
       "\n",
       "                                         Type_of_Loan  Delay_from_due_date  \\\n",
       "4                                 Credit-Builder Loan                    3   \n",
       "41  Credit-Builder Loan, Personal Loan, and Auto Loan                   16   \n",
       "\n",
       "    Num_of_Delayed_Payment  Changed_Credit_Limit  Num_Credit_Inquiries  \\\n",
       "4                        1                  5.42                     5   \n",
       "41                      20                 11.00                     0   \n",
       "\n",
       "   Credit_Mix  Outstanding_Debt  Credit_Utilization_Ratio  \\\n",
       "4        Good            605.03                 25.926822   \n",
       "41   Standard           1328.93                 36.778209   \n",
       "\n",
       "        Credit_History_Age Payment_of_Min_Amount  Total_EMI_per_month  \\\n",
       "4    27 Years and 3 Months                    No            18.816215   \n",
       "41  19 Years and 11 Months                   Yes            65.008174   \n",
       "\n",
       "    Amount_invested_monthly                Payment_Behaviour  Monthly_Balance  \\\n",
       "4                 39.684018  High_spent_Large_value_payments       485.298434   \n",
       "41               139.303039   Low_spent_Small_value_payments       380.549371   \n",
       "\n",
       "           Name_new  Credit_History_Age_new Month_number  \\\n",
       "4   Rick Rothackerj   27 Years and 3 Months   1900-09-01   \n",
       "41          Saphirj  19 Years and 11 Months   1900-10-01   \n",
       "\n",
       "   Credit_History_Months Age_new  \n",
       "4                  327.0      28  \n",
       "41                 239.0      20  "
      ]
     },
     "execution_count": 246,
     "metadata": {},
     "output_type": "execute_result"
    }
   ],
   "source": [
    "dataset[dataset['Occupation'] == '_______'].head(2)"
   ]
  },
  {
   "cell_type": "code",
   "execution_count": 247,
   "metadata": {},
   "outputs": [
    {
     "data": {
      "text/html": [
       "<div>\n",
       "<style scoped>\n",
       "    .dataframe tbody tr th:only-of-type {\n",
       "        vertical-align: middle;\n",
       "    }\n",
       "\n",
       "    .dataframe tbody tr th {\n",
       "        vertical-align: top;\n",
       "    }\n",
       "\n",
       "    .dataframe thead th {\n",
       "        text-align: right;\n",
       "    }\n",
       "</style>\n",
       "<table border=\"1\" class=\"dataframe\">\n",
       "  <thead>\n",
       "    <tr style=\"text-align: right;\">\n",
       "      <th></th>\n",
       "      <th>ID</th>\n",
       "      <th>Customer_ID</th>\n",
       "      <th>Month</th>\n",
       "      <th>Name</th>\n",
       "      <th>Age</th>\n",
       "      <th>SSN</th>\n",
       "      <th>Occupation</th>\n",
       "      <th>Annual_Income</th>\n",
       "      <th>Monthly_Inhand_Salary</th>\n",
       "      <th>Num_Bank_Accounts</th>\n",
       "      <th>Num_Credit_Card</th>\n",
       "      <th>Interest_Rate</th>\n",
       "      <th>Num_of_Loan</th>\n",
       "      <th>Type_of_Loan</th>\n",
       "      <th>Delay_from_due_date</th>\n",
       "      <th>Num_of_Delayed_Payment</th>\n",
       "      <th>Changed_Credit_Limit</th>\n",
       "      <th>Num_Credit_Inquiries</th>\n",
       "      <th>Credit_Mix</th>\n",
       "      <th>Outstanding_Debt</th>\n",
       "      <th>Credit_Utilization_Ratio</th>\n",
       "      <th>Credit_History_Age</th>\n",
       "      <th>Payment_of_Min_Amount</th>\n",
       "      <th>Total_EMI_per_month</th>\n",
       "      <th>Amount_invested_monthly</th>\n",
       "      <th>Payment_Behaviour</th>\n",
       "      <th>Monthly_Balance</th>\n",
       "      <th>Name_new</th>\n",
       "      <th>Credit_History_Age_new</th>\n",
       "      <th>Month_number</th>\n",
       "      <th>Credit_History_Months</th>\n",
       "      <th>Age_new</th>\n",
       "    </tr>\n",
       "  </thead>\n",
       "  <tbody>\n",
       "    <tr>\n",
       "      <th>4</th>\n",
       "      <td>0x1616</td>\n",
       "      <td>CUS_0x21b1</td>\n",
       "      <td>September</td>\n",
       "      <td>Rick Rothackerj</td>\n",
       "      <td>28</td>\n",
       "      <td>004-07-5839</td>\n",
       "      <td>_______</td>\n",
       "      <td>34847.0</td>\n",
       "      <td>3037.986667</td>\n",
       "      <td>2</td>\n",
       "      <td>4</td>\n",
       "      <td>6.0</td>\n",
       "      <td>1</td>\n",
       "      <td>Credit-Builder Loan</td>\n",
       "      <td>3</td>\n",
       "      <td>1</td>\n",
       "      <td>5.42</td>\n",
       "      <td>5</td>\n",
       "      <td>Good</td>\n",
       "      <td>605.03</td>\n",
       "      <td>25.926822</td>\n",
       "      <td>27 Years and 3 Months</td>\n",
       "      <td>No</td>\n",
       "      <td>18.816215</td>\n",
       "      <td>39.684018</td>\n",
       "      <td>High_spent_Large_value_payments</td>\n",
       "      <td>485.298434</td>\n",
       "      <td>Rick Rothackerj</td>\n",
       "      <td>27 Years and 3 Months</td>\n",
       "      <td>1900-09-01</td>\n",
       "      <td>327.0</td>\n",
       "      <td>28</td>\n",
       "    </tr>\n",
       "    <tr>\n",
       "      <th>5</th>\n",
       "      <td>0x1617</td>\n",
       "      <td>CUS_0x21b1</td>\n",
       "      <td>October</td>\n",
       "      <td>Rick Rothackerj</td>\n",
       "      <td>28</td>\n",
       "      <td>#F%$D@*&amp;8</td>\n",
       "      <td>Teacher</td>\n",
       "      <td>34847.0</td>\n",
       "      <td>3037.986667</td>\n",
       "      <td>2</td>\n",
       "      <td>4</td>\n",
       "      <td>6.0</td>\n",
       "      <td>1</td>\n",
       "      <td>Credit-Builder Loan</td>\n",
       "      <td>3</td>\n",
       "      <td>3</td>\n",
       "      <td>5.42</td>\n",
       "      <td>5</td>\n",
       "      <td>Good</td>\n",
       "      <td>605.03</td>\n",
       "      <td>30.116600</td>\n",
       "      <td>27 Years and 4 Months</td>\n",
       "      <td>No</td>\n",
       "      <td>18.816215</td>\n",
       "      <td>251.627369</td>\n",
       "      <td>Low_spent_Large_value_payments</td>\n",
       "      <td>303.355083</td>\n",
       "      <td>Rick Rothackerj</td>\n",
       "      <td>27 Years and 4 Months</td>\n",
       "      <td>1900-10-01</td>\n",
       "      <td>328.0</td>\n",
       "      <td>28</td>\n",
       "    </tr>\n",
       "  </tbody>\n",
       "</table>\n",
       "</div>"
      ],
      "text/plain": [
       "       ID Customer_ID      Month             Name  Age          SSN  \\\n",
       "4  0x1616  CUS_0x21b1  September  Rick Rothackerj   28  004-07-5839   \n",
       "5  0x1617  CUS_0x21b1    October  Rick Rothackerj   28    #F%$D@*&8   \n",
       "\n",
       "  Occupation  Annual_Income  Monthly_Inhand_Salary  Num_Bank_Accounts  \\\n",
       "4    _______        34847.0            3037.986667                  2   \n",
       "5    Teacher        34847.0            3037.986667                  2   \n",
       "\n",
       "   Num_Credit_Card  Interest_Rate  Num_of_Loan         Type_of_Loan  \\\n",
       "4                4            6.0            1  Credit-Builder Loan   \n",
       "5                4            6.0            1  Credit-Builder Loan   \n",
       "\n",
       "   Delay_from_due_date  Num_of_Delayed_Payment  Changed_Credit_Limit  \\\n",
       "4                    3                       1                  5.42   \n",
       "5                    3                       3                  5.42   \n",
       "\n",
       "   Num_Credit_Inquiries Credit_Mix  Outstanding_Debt  \\\n",
       "4                     5       Good            605.03   \n",
       "5                     5       Good            605.03   \n",
       "\n",
       "   Credit_Utilization_Ratio     Credit_History_Age Payment_of_Min_Amount  \\\n",
       "4                 25.926822  27 Years and 3 Months                    No   \n",
       "5                 30.116600  27 Years and 4 Months                    No   \n",
       "\n",
       "   Total_EMI_per_month  Amount_invested_monthly  \\\n",
       "4            18.816215                39.684018   \n",
       "5            18.816215               251.627369   \n",
       "\n",
       "                 Payment_Behaviour  Monthly_Balance         Name_new  \\\n",
       "4  High_spent_Large_value_payments       485.298434  Rick Rothackerj   \n",
       "5   Low_spent_Large_value_payments       303.355083  Rick Rothackerj   \n",
       "\n",
       "  Credit_History_Age_new Month_number Credit_History_Months Age_new  \n",
       "4  27 Years and 3 Months   1900-09-01                 327.0      28  \n",
       "5  27 Years and 4 Months   1900-10-01                 328.0      28  "
      ]
     },
     "execution_count": 247,
     "metadata": {},
     "output_type": "execute_result"
    }
   ],
   "source": [
    "dataset[dataset['Customer_ID'] == 'CUS_0x21b1'].head(2)"
   ]
  },
  {
   "cell_type": "code",
   "execution_count": 248,
   "metadata": {},
   "outputs": [],
   "source": [
    "dataset_occupation = dataset[['Customer_ID', 'Occupation']]\n",
    "dataset_occupation = dataset_occupation[dataset_occupation['Occupation'] != \"_______\"]\n",
    "dataset_occupation = dataset_occupation.drop_duplicates()\n",
    "\n",
    "dataset = dataset.merge(dataset_occupation, on='Customer_ID', how=\"left\", suffixes=('', '_new'))\n",
    "dataset['Occupation'] = np.where(\n",
    "    dataset['Occupation'] == '_______',\n",
    "    dataset['Occupation_new'],\n",
    "    dataset['Occupation']\n",
    ")"
   ]
  },
  {
   "cell_type": "code",
   "execution_count": 249,
   "metadata": {},
   "outputs": [
    {
     "data": {
      "text/plain": [
       "array(['Scientist', 'Teacher', 'Engineer', 'Entrepreneur', 'Developer',\n",
       "       'Lawyer', 'Media_Manager', 'Doctor', 'Journalist', 'Manager',\n",
       "       'Accountant', 'Musician', 'Mechanic', 'Writer', 'Architect'],\n",
       "      dtype=object)"
      ]
     },
     "execution_count": 249,
     "metadata": {},
     "output_type": "execute_result"
    }
   ],
   "source": [
    "dataset['Occupation'].unique()"
   ]
  },
  {
   "cell_type": "code",
   "execution_count": null,
   "metadata": {},
   "outputs": [],
   "source": []
  },
  {
   "cell_type": "markdown",
   "metadata": {},
   "source": [
    "## Tratando valor !@9#%8 na coluna Payment_Behaviour"
   ]
  },
  {
   "cell_type": "code",
   "execution_count": 250,
   "metadata": {},
   "outputs": [
    {
     "data": {
      "text/plain": [
       "array(['Low_spent_Small_value_payments',\n",
       "       'High_spent_Medium_value_payments',\n",
       "       'Low_spent_Medium_value_payments',\n",
       "       'High_spent_Large_value_payments',\n",
       "       'Low_spent_Large_value_payments', '!@9#%8',\n",
       "       'High_spent_Small_value_payments'], dtype=object)"
      ]
     },
     "execution_count": 250,
     "metadata": {},
     "output_type": "execute_result"
    }
   ],
   "source": [
    "dataset['Payment_Behaviour'].unique()"
   ]
  },
  {
   "cell_type": "code",
   "execution_count": 251,
   "metadata": {},
   "outputs": [
    {
     "data": {
      "text/html": [
       "<div>\n",
       "<style scoped>\n",
       "    .dataframe tbody tr th:only-of-type {\n",
       "        vertical-align: middle;\n",
       "    }\n",
       "\n",
       "    .dataframe tbody tr th {\n",
       "        vertical-align: top;\n",
       "    }\n",
       "\n",
       "    .dataframe thead th {\n",
       "        text-align: right;\n",
       "    }\n",
       "</style>\n",
       "<table border=\"1\" class=\"dataframe\">\n",
       "  <thead>\n",
       "    <tr style=\"text-align: right;\">\n",
       "      <th></th>\n",
       "      <th>ID</th>\n",
       "      <th>Customer_ID</th>\n",
       "      <th>Month</th>\n",
       "      <th>Name</th>\n",
       "      <th>Age</th>\n",
       "      <th>SSN</th>\n",
       "      <th>Occupation</th>\n",
       "      <th>Annual_Income</th>\n",
       "      <th>Monthly_Inhand_Salary</th>\n",
       "      <th>Num_Bank_Accounts</th>\n",
       "      <th>Num_Credit_Card</th>\n",
       "      <th>Interest_Rate</th>\n",
       "      <th>Num_of_Loan</th>\n",
       "      <th>Type_of_Loan</th>\n",
       "      <th>Delay_from_due_date</th>\n",
       "      <th>Num_of_Delayed_Payment</th>\n",
       "      <th>Changed_Credit_Limit</th>\n",
       "      <th>Num_Credit_Inquiries</th>\n",
       "      <th>Credit_Mix</th>\n",
       "      <th>Outstanding_Debt</th>\n",
       "      <th>Credit_Utilization_Ratio</th>\n",
       "      <th>Credit_History_Age</th>\n",
       "      <th>Payment_of_Min_Amount</th>\n",
       "      <th>Total_EMI_per_month</th>\n",
       "      <th>Amount_invested_monthly</th>\n",
       "      <th>Payment_Behaviour</th>\n",
       "      <th>Monthly_Balance</th>\n",
       "      <th>Name_new</th>\n",
       "      <th>Credit_History_Age_new</th>\n",
       "      <th>Month_number</th>\n",
       "      <th>Credit_History_Months</th>\n",
       "      <th>Age_new</th>\n",
       "      <th>Occupation_new</th>\n",
       "    </tr>\n",
       "  </thead>\n",
       "  <tbody>\n",
       "    <tr>\n",
       "      <th>7</th>\n",
       "      <td>0x1619</td>\n",
       "      <td>CUS_0x21b1</td>\n",
       "      <td>December</td>\n",
       "      <td>Rick Rothackerj</td>\n",
       "      <td>28</td>\n",
       "      <td>004-07-5839</td>\n",
       "      <td>Teacher</td>\n",
       "      <td>34847.0</td>\n",
       "      <td>3037.986667</td>\n",
       "      <td>2</td>\n",
       "      <td>4</td>\n",
       "      <td>6.0</td>\n",
       "      <td>1</td>\n",
       "      <td>Credit-Builder Loan</td>\n",
       "      <td>3</td>\n",
       "      <td>2</td>\n",
       "      <td>7.42</td>\n",
       "      <td>5</td>\n",
       "      <td>_</td>\n",
       "      <td>605.03</td>\n",
       "      <td>33.875167</td>\n",
       "      <td>27 Years and 6 Months</td>\n",
       "      <td>No</td>\n",
       "      <td>18.816215</td>\n",
       "      <td>153.534488</td>\n",
       "      <td>!@9#%8</td>\n",
       "      <td>421.447964</td>\n",
       "      <td>Rick Rothackerj</td>\n",
       "      <td>27 Years and 6 Months</td>\n",
       "      <td>1900-12-01</td>\n",
       "      <td>330.0</td>\n",
       "      <td>28</td>\n",
       "      <td>Teacher</td>\n",
       "    </tr>\n",
       "    <tr>\n",
       "      <th>36</th>\n",
       "      <td>0x1676</td>\n",
       "      <td>CUS_0xba08</td>\n",
       "      <td>September</td>\n",
       "      <td>Jamesj</td>\n",
       "      <td>45</td>\n",
       "      <td>366-68-1681</td>\n",
       "      <td>Journalist</td>\n",
       "      <td>31370.0</td>\n",
       "      <td>2825.233333</td>\n",
       "      <td>1</td>\n",
       "      <td>6</td>\n",
       "      <td>12.0</td>\n",
       "      <td>2</td>\n",
       "      <td>Not Specified, and Payday Loan</td>\n",
       "      <td>3</td>\n",
       "      <td>0</td>\n",
       "      <td>-0.24</td>\n",
       "      <td>5</td>\n",
       "      <td>Good</td>\n",
       "      <td>421.43</td>\n",
       "      <td>40.633131</td>\n",
       "      <td>27 Years and 1 Months</td>\n",
       "      <td>No</td>\n",
       "      <td>46.616129</td>\n",
       "      <td>161.583377</td>\n",
       "      <td>!@9#%8</td>\n",
       "      <td>364.323828</td>\n",
       "      <td>Jamesj</td>\n",
       "      <td>27 Years and 1 Months</td>\n",
       "      <td>1900-09-01</td>\n",
       "      <td>325.0</td>\n",
       "      <td>28</td>\n",
       "      <td>Journalist</td>\n",
       "    </tr>\n",
       "  </tbody>\n",
       "</table>\n",
       "</div>"
      ],
      "text/plain": [
       "        ID Customer_ID      Month             Name  Age          SSN  \\\n",
       "7   0x1619  CUS_0x21b1   December  Rick Rothackerj   28  004-07-5839   \n",
       "36  0x1676  CUS_0xba08  September           Jamesj   45  366-68-1681   \n",
       "\n",
       "    Occupation  Annual_Income  Monthly_Inhand_Salary  Num_Bank_Accounts  \\\n",
       "7      Teacher        34847.0            3037.986667                  2   \n",
       "36  Journalist        31370.0            2825.233333                  1   \n",
       "\n",
       "    Num_Credit_Card  Interest_Rate  Num_of_Loan  \\\n",
       "7                 4            6.0            1   \n",
       "36                6           12.0            2   \n",
       "\n",
       "                      Type_of_Loan  Delay_from_due_date  \\\n",
       "7              Credit-Builder Loan                    3   \n",
       "36  Not Specified, and Payday Loan                    3   \n",
       "\n",
       "    Num_of_Delayed_Payment  Changed_Credit_Limit  Num_Credit_Inquiries  \\\n",
       "7                        2                  7.42                     5   \n",
       "36                       0                 -0.24                     5   \n",
       "\n",
       "   Credit_Mix  Outstanding_Debt  Credit_Utilization_Ratio  \\\n",
       "7           _            605.03                 33.875167   \n",
       "36       Good            421.43                 40.633131   \n",
       "\n",
       "       Credit_History_Age Payment_of_Min_Amount  Total_EMI_per_month  \\\n",
       "7   27 Years and 6 Months                    No            18.816215   \n",
       "36  27 Years and 1 Months                    No            46.616129   \n",
       "\n",
       "    Amount_invested_monthly Payment_Behaviour  Monthly_Balance  \\\n",
       "7                153.534488            !@9#%8       421.447964   \n",
       "36               161.583377            !@9#%8       364.323828   \n",
       "\n",
       "           Name_new Credit_History_Age_new Month_number Credit_History_Months  \\\n",
       "7   Rick Rothackerj  27 Years and 6 Months   1900-12-01                 330.0   \n",
       "36           Jamesj  27 Years and 1 Months   1900-09-01                 325.0   \n",
       "\n",
       "   Age_new Occupation_new  \n",
       "7       28        Teacher  \n",
       "36      28     Journalist  "
      ]
     },
     "execution_count": 251,
     "metadata": {},
     "output_type": "execute_result"
    }
   ],
   "source": [
    "dataset[dataset['Payment_Behaviour'] == '!@9#%8'].head(2)"
   ]
  },
  {
   "cell_type": "code",
   "execution_count": 252,
   "metadata": {},
   "outputs": [
    {
     "data": {
      "text/html": [
       "<div>\n",
       "<style scoped>\n",
       "    .dataframe tbody tr th:only-of-type {\n",
       "        vertical-align: middle;\n",
       "    }\n",
       "\n",
       "    .dataframe tbody tr th {\n",
       "        vertical-align: top;\n",
       "    }\n",
       "\n",
       "    .dataframe thead th {\n",
       "        text-align: right;\n",
       "    }\n",
       "</style>\n",
       "<table border=\"1\" class=\"dataframe\">\n",
       "  <thead>\n",
       "    <tr style=\"text-align: right;\">\n",
       "      <th></th>\n",
       "      <th>ID</th>\n",
       "      <th>Customer_ID</th>\n",
       "      <th>Month</th>\n",
       "      <th>Name</th>\n",
       "      <th>Age</th>\n",
       "      <th>SSN</th>\n",
       "      <th>Occupation</th>\n",
       "      <th>Annual_Income</th>\n",
       "      <th>Monthly_Inhand_Salary</th>\n",
       "      <th>Num_Bank_Accounts</th>\n",
       "      <th>Num_Credit_Card</th>\n",
       "      <th>Interest_Rate</th>\n",
       "      <th>Num_of_Loan</th>\n",
       "      <th>Type_of_Loan</th>\n",
       "      <th>Delay_from_due_date</th>\n",
       "      <th>Num_of_Delayed_Payment</th>\n",
       "      <th>Changed_Credit_Limit</th>\n",
       "      <th>Num_Credit_Inquiries</th>\n",
       "      <th>Credit_Mix</th>\n",
       "      <th>Outstanding_Debt</th>\n",
       "      <th>Credit_Utilization_Ratio</th>\n",
       "      <th>Credit_History_Age</th>\n",
       "      <th>Payment_of_Min_Amount</th>\n",
       "      <th>Total_EMI_per_month</th>\n",
       "      <th>Amount_invested_monthly</th>\n",
       "      <th>Payment_Behaviour</th>\n",
       "      <th>Monthly_Balance</th>\n",
       "      <th>Name_new</th>\n",
       "      <th>Credit_History_Age_new</th>\n",
       "      <th>Month_number</th>\n",
       "      <th>Credit_History_Months</th>\n",
       "      <th>Age_new</th>\n",
       "      <th>Occupation_new</th>\n",
       "    </tr>\n",
       "  </thead>\n",
       "  <tbody>\n",
       "    <tr>\n",
       "      <th>4</th>\n",
       "      <td>0x1616</td>\n",
       "      <td>CUS_0x21b1</td>\n",
       "      <td>September</td>\n",
       "      <td>Rick Rothackerj</td>\n",
       "      <td>28</td>\n",
       "      <td>004-07-5839</td>\n",
       "      <td>Teacher</td>\n",
       "      <td>34847.0</td>\n",
       "      <td>3037.986667</td>\n",
       "      <td>2</td>\n",
       "      <td>4</td>\n",
       "      <td>6.0</td>\n",
       "      <td>1</td>\n",
       "      <td>Credit-Builder Loan</td>\n",
       "      <td>3</td>\n",
       "      <td>1</td>\n",
       "      <td>5.42</td>\n",
       "      <td>5</td>\n",
       "      <td>Good</td>\n",
       "      <td>605.03</td>\n",
       "      <td>25.926822</td>\n",
       "      <td>27 Years and 3 Months</td>\n",
       "      <td>No</td>\n",
       "      <td>18.816215</td>\n",
       "      <td>39.684018</td>\n",
       "      <td>High_spent_Large_value_payments</td>\n",
       "      <td>485.298434</td>\n",
       "      <td>Rick Rothackerj</td>\n",
       "      <td>27 Years and 3 Months</td>\n",
       "      <td>1900-09-01</td>\n",
       "      <td>327.0</td>\n",
       "      <td>28</td>\n",
       "      <td>Teacher</td>\n",
       "    </tr>\n",
       "    <tr>\n",
       "      <th>5</th>\n",
       "      <td>0x1617</td>\n",
       "      <td>CUS_0x21b1</td>\n",
       "      <td>October</td>\n",
       "      <td>Rick Rothackerj</td>\n",
       "      <td>28</td>\n",
       "      <td>#F%$D@*&amp;8</td>\n",
       "      <td>Teacher</td>\n",
       "      <td>34847.0</td>\n",
       "      <td>3037.986667</td>\n",
       "      <td>2</td>\n",
       "      <td>4</td>\n",
       "      <td>6.0</td>\n",
       "      <td>1</td>\n",
       "      <td>Credit-Builder Loan</td>\n",
       "      <td>3</td>\n",
       "      <td>3</td>\n",
       "      <td>5.42</td>\n",
       "      <td>5</td>\n",
       "      <td>Good</td>\n",
       "      <td>605.03</td>\n",
       "      <td>30.116600</td>\n",
       "      <td>27 Years and 4 Months</td>\n",
       "      <td>No</td>\n",
       "      <td>18.816215</td>\n",
       "      <td>251.627369</td>\n",
       "      <td>Low_spent_Large_value_payments</td>\n",
       "      <td>303.355083</td>\n",
       "      <td>Rick Rothackerj</td>\n",
       "      <td>27 Years and 4 Months</td>\n",
       "      <td>1900-10-01</td>\n",
       "      <td>328.0</td>\n",
       "      <td>28</td>\n",
       "      <td>Teacher</td>\n",
       "    </tr>\n",
       "    <tr>\n",
       "      <th>6</th>\n",
       "      <td>0x1618</td>\n",
       "      <td>CUS_0x21b1</td>\n",
       "      <td>November</td>\n",
       "      <td>Rick Rothackerj</td>\n",
       "      <td>28</td>\n",
       "      <td>004-07-5839</td>\n",
       "      <td>Teacher</td>\n",
       "      <td>34847.0</td>\n",
       "      <td>3037.986667</td>\n",
       "      <td>2</td>\n",
       "      <td>4</td>\n",
       "      <td>6.0</td>\n",
       "      <td>1</td>\n",
       "      <td>Credit-Builder Loan</td>\n",
       "      <td>3</td>\n",
       "      <td>0</td>\n",
       "      <td>5.42</td>\n",
       "      <td>5</td>\n",
       "      <td>_</td>\n",
       "      <td>605.03</td>\n",
       "      <td>30.996424</td>\n",
       "      <td>27 Years and 5 Months</td>\n",
       "      <td>No</td>\n",
       "      <td>18.816215</td>\n",
       "      <td>72.680145</td>\n",
       "      <td>High_spent_Large_value_payments</td>\n",
       "      <td>452.302307</td>\n",
       "      <td>Rick Rothackerj</td>\n",
       "      <td>27 Years and 5 Months</td>\n",
       "      <td>1900-11-01</td>\n",
       "      <td>329.0</td>\n",
       "      <td>28</td>\n",
       "      <td>Teacher</td>\n",
       "    </tr>\n",
       "    <tr>\n",
       "      <th>7</th>\n",
       "      <td>0x1619</td>\n",
       "      <td>CUS_0x21b1</td>\n",
       "      <td>December</td>\n",
       "      <td>Rick Rothackerj</td>\n",
       "      <td>28</td>\n",
       "      <td>004-07-5839</td>\n",
       "      <td>Teacher</td>\n",
       "      <td>34847.0</td>\n",
       "      <td>3037.986667</td>\n",
       "      <td>2</td>\n",
       "      <td>4</td>\n",
       "      <td>6.0</td>\n",
       "      <td>1</td>\n",
       "      <td>Credit-Builder Loan</td>\n",
       "      <td>3</td>\n",
       "      <td>2</td>\n",
       "      <td>7.42</td>\n",
       "      <td>5</td>\n",
       "      <td>_</td>\n",
       "      <td>605.03</td>\n",
       "      <td>33.875167</td>\n",
       "      <td>27 Years and 6 Months</td>\n",
       "      <td>No</td>\n",
       "      <td>18.816215</td>\n",
       "      <td>153.534488</td>\n",
       "      <td>!@9#%8</td>\n",
       "      <td>421.447964</td>\n",
       "      <td>Rick Rothackerj</td>\n",
       "      <td>27 Years and 6 Months</td>\n",
       "      <td>1900-12-01</td>\n",
       "      <td>330.0</td>\n",
       "      <td>28</td>\n",
       "      <td>Teacher</td>\n",
       "    </tr>\n",
       "  </tbody>\n",
       "</table>\n",
       "</div>"
      ],
      "text/plain": [
       "       ID Customer_ID      Month             Name  Age          SSN  \\\n",
       "4  0x1616  CUS_0x21b1  September  Rick Rothackerj   28  004-07-5839   \n",
       "5  0x1617  CUS_0x21b1    October  Rick Rothackerj   28    #F%$D@*&8   \n",
       "6  0x1618  CUS_0x21b1   November  Rick Rothackerj   28  004-07-5839   \n",
       "7  0x1619  CUS_0x21b1   December  Rick Rothackerj   28  004-07-5839   \n",
       "\n",
       "  Occupation  Annual_Income  Monthly_Inhand_Salary  Num_Bank_Accounts  \\\n",
       "4    Teacher        34847.0            3037.986667                  2   \n",
       "5    Teacher        34847.0            3037.986667                  2   \n",
       "6    Teacher        34847.0            3037.986667                  2   \n",
       "7    Teacher        34847.0            3037.986667                  2   \n",
       "\n",
       "   Num_Credit_Card  Interest_Rate  Num_of_Loan         Type_of_Loan  \\\n",
       "4                4            6.0            1  Credit-Builder Loan   \n",
       "5                4            6.0            1  Credit-Builder Loan   \n",
       "6                4            6.0            1  Credit-Builder Loan   \n",
       "7                4            6.0            1  Credit-Builder Loan   \n",
       "\n",
       "   Delay_from_due_date  Num_of_Delayed_Payment  Changed_Credit_Limit  \\\n",
       "4                    3                       1                  5.42   \n",
       "5                    3                       3                  5.42   \n",
       "6                    3                       0                  5.42   \n",
       "7                    3                       2                  7.42   \n",
       "\n",
       "   Num_Credit_Inquiries Credit_Mix  Outstanding_Debt  \\\n",
       "4                     5       Good            605.03   \n",
       "5                     5       Good            605.03   \n",
       "6                     5          _            605.03   \n",
       "7                     5          _            605.03   \n",
       "\n",
       "   Credit_Utilization_Ratio     Credit_History_Age Payment_of_Min_Amount  \\\n",
       "4                 25.926822  27 Years and 3 Months                    No   \n",
       "5                 30.116600  27 Years and 4 Months                    No   \n",
       "6                 30.996424  27 Years and 5 Months                    No   \n",
       "7                 33.875167  27 Years and 6 Months                    No   \n",
       "\n",
       "   Total_EMI_per_month  Amount_invested_monthly  \\\n",
       "4            18.816215                39.684018   \n",
       "5            18.816215               251.627369   \n",
       "6            18.816215                72.680145   \n",
       "7            18.816215               153.534488   \n",
       "\n",
       "                 Payment_Behaviour  Monthly_Balance         Name_new  \\\n",
       "4  High_spent_Large_value_payments       485.298434  Rick Rothackerj   \n",
       "5   Low_spent_Large_value_payments       303.355083  Rick Rothackerj   \n",
       "6  High_spent_Large_value_payments       452.302307  Rick Rothackerj   \n",
       "7                           !@9#%8       421.447964  Rick Rothackerj   \n",
       "\n",
       "  Credit_History_Age_new Month_number Credit_History_Months Age_new  \\\n",
       "4  27 Years and 3 Months   1900-09-01                 327.0      28   \n",
       "5  27 Years and 4 Months   1900-10-01                 328.0      28   \n",
       "6  27 Years and 5 Months   1900-11-01                 329.0      28   \n",
       "7  27 Years and 6 Months   1900-12-01                 330.0      28   \n",
       "\n",
       "  Occupation_new  \n",
       "4        Teacher  \n",
       "5        Teacher  \n",
       "6        Teacher  \n",
       "7        Teacher  "
      ]
     },
     "execution_count": 252,
     "metadata": {},
     "output_type": "execute_result"
    }
   ],
   "source": [
    "dataset[dataset['Customer_ID'] == 'CUS_0x21b1'].head()"
   ]
  },
  {
   "cell_type": "code",
   "execution_count": 253,
   "metadata": {},
   "outputs": [],
   "source": [
    "def classify_payment_behaviour(row):\n",
    "    total_spent = row['Total_EMI_per_month'] + row['Amount_invested_monthly'] + row['Outstanding_Debt']\n",
    "    salary = row['Monthly_Inhand_Salary']\n",
    "    \n",
    "    if total_spent > 0.6 * salary:\n",
    "        spending = 'High_spent'\n",
    "    else:\n",
    "        spending = 'Low_spent'\n",
    "    \n",
    "    if total_spent < 500:\n",
    "        payment_value = 'Small_value_payments'\n",
    "    elif total_spent < 2000:\n",
    "        payment_value = 'Medium_value_payments'\n",
    "    else:\n",
    "        payment_value = 'Large_value_payments'\n",
    "\n",
    "    return f'{spending}_{payment_value}'"
   ]
  },
  {
   "cell_type": "code",
   "execution_count": 254,
   "metadata": {},
   "outputs": [
    {
     "data": {
      "text/plain": [
       "array(['Low_spent_Small_value_payments',\n",
       "       'High_spent_Medium_value_payments',\n",
       "       'Low_spent_Medium_value_payments',\n",
       "       'High_spent_Large_value_payments',\n",
       "       'Low_spent_Large_value_payments',\n",
       "       'High_spent_Small_value_payments'], dtype=object)"
      ]
     },
     "execution_count": 254,
     "metadata": {},
     "output_type": "execute_result"
    }
   ],
   "source": [
    "dataset_teste = dataset\n",
    "dataset_teste['Payment_Behaviour_new'] = dataset_teste.apply(classify_payment_behaviour, axis=1)\n",
    "dataset['Payment_Behaviour'] = np.where(\n",
    "    dataset['Payment_Behaviour'] == '!@9#%8',\n",
    "    dataset['Payment_Behaviour_new'],\n",
    "    dataset['Payment_Behaviour']\n",
    ")\n",
    "\n",
    "dataset['Payment_Behaviour'].unique()"
   ]
  },
  {
   "cell_type": "code",
   "execution_count": null,
   "metadata": {},
   "outputs": [],
   "source": []
  },
  {
   "cell_type": "markdown",
   "metadata": {},
   "source": [
    "## Tratando valores _ na coluna Credit_Mix"
   ]
  },
  {
   "cell_type": "code",
   "execution_count": 255,
   "metadata": {},
   "outputs": [
    {
     "data": {
      "text/plain": [
       "array(['Good', '_', 'Standard', 'Bad'], dtype=object)"
      ]
     },
     "execution_count": 255,
     "metadata": {},
     "output_type": "execute_result"
    }
   ],
   "source": [
    "dataset['Credit_Mix'].unique()"
   ]
  },
  {
   "cell_type": "code",
   "execution_count": 256,
   "metadata": {},
   "outputs": [
    {
     "name": "stderr",
     "output_type": "stream",
     "text": [
      "C:\\Users\\GabGalani\\AppData\\Local\\Temp\\ipykernel_11668\\282542408.py:2: FutureWarning: Series.fillna with 'method' is deprecated and will raise in a future version. Use obj.ffill() or obj.bfill() instead.\n",
      "  dataset['Credit_Mix_new'] = dataset['Credit_Mix'].replace('_', None).fillna(method='bfill')\n"
     ]
    },
    {
     "data": {
      "text/plain": [
       "array(['Bad', 'Standard', 'Good'], dtype=object)"
      ]
     },
     "execution_count": 256,
     "metadata": {},
     "output_type": "execute_result"
    }
   ],
   "source": [
    "dataset = dataset.sort_values(by=['Customer_ID', 'Month', 'Age'])\n",
    "dataset['Credit_Mix_new'] = dataset['Credit_Mix'].replace('_', None).fillna(method='bfill')\n",
    "\n",
    "dataset['Credit_Mix'] = np.where(\n",
    "    dataset['Credit_Mix'] == '_',\n",
    "    dataset['Credit_Mix_new'],\n",
    "    dataset['Credit_Mix']\n",
    ")\n",
    "dataset['Credit_Mix'].unique()"
   ]
  },
  {
   "cell_type": "code",
   "execution_count": null,
   "metadata": {},
   "outputs": [],
   "source": []
  },
  {
   "cell_type": "markdown",
   "metadata": {},
   "source": [
    "## Tratando valores errados coluna Num_of_Loan"
   ]
  },
  {
   "cell_type": "code",
   "execution_count": 257,
   "metadata": {},
   "outputs": [],
   "source": [
    "dataset['Num_of_Loan_new'] = dataset['Type_of_Loan'].apply(lambda x: len(x.split(',')))\n",
    "dataset['Num_of_Loan'] = np.where(\n",
    "    dataset['Type_of_Loan'] == 'Not Specified',\n",
    "    1,\n",
    "    dataset['Num_of_Loan']\n",
    ")\n",
    "\n",
    "dataset['Num_of_Loan'] = np.where(\n",
    "    dataset['Type_of_Loan'] != dataset['Num_of_Loan_new'],\n",
    "    dataset['Num_of_Loan_new'],\n",
    "    dataset['Num_of_Loan']\n",
    ")\n",
    "\n",
    "dataset['Num_of_Loan'] = np.where(\n",
    "    dataset['Type_of_Loan'] == '',\n",
    "    0,\n",
    "    dataset['Num_of_Loan']\n",
    ")"
   ]
  },
  {
   "cell_type": "code",
   "execution_count": null,
   "metadata": {},
   "outputs": [],
   "source": []
  },
  {
   "cell_type": "code",
   "execution_count": null,
   "metadata": {},
   "outputs": [],
   "source": []
  },
  {
   "cell_type": "markdown",
   "metadata": {},
   "source": [
    "## Excluindo as colunas _new"
   ]
  },
  {
   "cell_type": "code",
   "execution_count": 258,
   "metadata": {},
   "outputs": [],
   "source": [
    "for i in dataset.columns:\n",
    "    if \"_new\" in i or \"Month_number\" == i or 'Credit_History_Months' == i:\n",
    "        dataset.drop(columns=i, inplace=True)"
   ]
  },
  {
   "cell_type": "code",
   "execution_count": 259,
   "metadata": {},
   "outputs": [
    {
     "name": "stdout",
     "output_type": "stream",
     "text": [
      "<class 'pandas.core.frame.DataFrame'>\n",
      "Index: 50000 entries, 28379 to 49576\n",
      "Data columns (total 27 columns):\n",
      " #   Column                    Non-Null Count  Dtype  \n",
      "---  ------                    --------------  -----  \n",
      " 0   ID                        50000 non-null  object \n",
      " 1   Customer_ID               50000 non-null  object \n",
      " 2   Month                     50000 non-null  object \n",
      " 3   Name                      50000 non-null  object \n",
      " 4   Age                       50000 non-null  int64  \n",
      " 5   SSN                       50000 non-null  object \n",
      " 6   Occupation                50000 non-null  object \n",
      " 7   Annual_Income             50000 non-null  float64\n",
      " 8   Monthly_Inhand_Salary     50000 non-null  float64\n",
      " 9   Num_Bank_Accounts         50000 non-null  int64  \n",
      " 10  Num_Credit_Card           50000 non-null  int64  \n",
      " 11  Interest_Rate             50000 non-null  float64\n",
      " 12  Num_of_Loan               50000 non-null  int64  \n",
      " 13  Type_of_Loan              50000 non-null  object \n",
      " 14  Delay_from_due_date       50000 non-null  int64  \n",
      " 15  Num_of_Delayed_Payment    50000 non-null  int64  \n",
      " 16  Changed_Credit_Limit      50000 non-null  float64\n",
      " 17  Num_Credit_Inquiries      50000 non-null  int64  \n",
      " 18  Credit_Mix                50000 non-null  object \n",
      " 19  Outstanding_Debt          50000 non-null  float64\n",
      " 20  Credit_Utilization_Ratio  50000 non-null  float64\n",
      " 21  Credit_History_Age        50000 non-null  object \n",
      " 22  Payment_of_Min_Amount     50000 non-null  object \n",
      " 23  Total_EMI_per_month       50000 non-null  float64\n",
      " 24  Amount_invested_monthly   50000 non-null  float64\n",
      " 25  Payment_Behaviour         50000 non-null  object \n",
      " 26  Monthly_Balance           50000 non-null  float64\n",
      "dtypes: float64(9), int64(7), object(11)\n",
      "memory usage: 10.7+ MB\n"
     ]
    }
   ],
   "source": [
    "dataset.info()"
   ]
  },
  {
   "cell_type": "markdown",
   "metadata": {},
   "source": [
    "# Criando a pasta silver e salvando o novo dataset"
   ]
  },
  {
   "cell_type": "code",
   "execution_count": 260,
   "metadata": {},
   "outputs": [],
   "source": [
    "silver_folder = r'C:\\Users\\GabGalani\\Documents\\Data Projects\\Analise_credito\\dataset\\silver'\n",
    "Path(silver_folder).mkdir(parents=True, exist_ok=True)"
   ]
  },
  {
   "cell_type": "code",
   "execution_count": 261,
   "metadata": {},
   "outputs": [],
   "source": [
    "dataset.to_csv(os.path.join(silver_folder, 'silver_test.csv'), sep=';', index=False)"
   ]
  },
  {
   "cell_type": "code",
   "execution_count": null,
   "metadata": {},
   "outputs": [],
   "source": []
  }
 ],
 "metadata": {
  "kernelspec": {
   "display_name": ".venv",
   "language": "python",
   "name": "python3"
  },
  "language_info": {
   "codemirror_mode": {
    "name": "ipython",
    "version": 3
   },
   "file_extension": ".py",
   "mimetype": "text/x-python",
   "name": "python",
   "nbconvert_exporter": "python",
   "pygments_lexer": "ipython3",
   "version": "3.13.1"
  }
 },
 "nbformat": 4,
 "nbformat_minor": 2
}
